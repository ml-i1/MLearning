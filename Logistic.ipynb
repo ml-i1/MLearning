{
 "cells": [
  {
   "cell_type": "code",
   "execution_count": 4,
   "id": "9733bbf2-8d98-4d08-a3b0-5992f659622b",
   "metadata": {},
   "outputs": [],
   "source": [
    "import numpy as np\n",
    "import pandas as pd\n",
    "from sklearn.datasets import load_iris\n",
    "from sklearn.impute import SimpleImputer\n",
    "from sklearn.preprocessing import StandardScaler\n",
    "from sklearn.metrics import accuracy_score"
   ]
  },
  {
   "cell_type": "code",
   "execution_count": 5,
   "id": "04b0ba5a-f657-4fdf-9cd5-08ca69427e12",
   "metadata": {},
   "outputs": [],
   "source": [
    "iris = load_iris()\n"
   ]
  },
  {
   "cell_type": "code",
   "execution_count": 6,
   "id": "53ea640e-67e3-499e-8376-6b6c452dfbb2",
   "metadata": {},
   "outputs": [],
   "source": [
    "X = pd.DataFrame(iris.data, columns=iris.feature_names)\n",
    "y = iris.target"
   ]
  },
  {
   "cell_type": "code",
   "execution_count": 10,
   "id": "8f82a364-3704-41a6-a2ac-e779bff4f3c1",
   "metadata": {},
   "outputs": [],
   "source": [
    "X.iloc[5:10, 2] = np.nan\n",
    "X.iloc[20:25, 1] = np.nan\n"
   ]
  },
  {
   "cell_type": "code",
   "execution_count": 11,
   "id": "a3f0ce73-f6ad-43b1-b807-e42e8e37ffce",
   "metadata": {},
   "outputs": [],
   "source": [
    "imputer = SimpleImputer(strategy='mean')\n",
    "X_imputed = imputer.fit_transform(X)"
   ]
  },
  {
   "cell_type": "code",
   "execution_count": 12,
   "id": "dd4e06d0-05b0-42be-9bc8-5a300106f62c",
   "metadata": {},
   "outputs": [],
   "source": [
    "scaler = StandardScaler()\n",
    "X_scaled = scaler.fit_transform(X_imputed)"
   ]
  },
  {
   "cell_type": "code",
   "execution_count": 13,
   "id": "03983163-9a60-4c95-91c4-6bdeac3edfd3",
   "metadata": {},
   "outputs": [],
   "source": [
    "def softmax(z):\n",
    "    e_z = np.exp(z - np.max(z, axis=1, keepdims=True))\n",
    "    return e_z / e_z.sum(axis=1, keepdims=True)\n",
    "    "
   ]
  },
  {
   "cell_type": "code",
   "execution_count": 14,
   "id": "9156ad8e-722d-45c0-b583-bac9295cae93",
   "metadata": {},
   "outputs": [],
   "source": [
    "def one_hot(y, num_classes):\n",
    "    return np.eye(num_classes)[y]"
   ]
  },
  {
   "cell_type": "code",
   "execution_count": 15,
   "id": "442c98a0-84f2-496d-a5aa-27dca79852b1",
   "metadata": {},
   "outputs": [],
   "source": [
    "def train_logistic_regression(X, y, num_classes, lr=0.1, epochs=1000):\n",
    "    m, n = X.shape\n",
    "    X = np.hstack([np.ones((m, 1)), X])  # Add bias\n",
    "    W = np.zeros((n + 1, num_classes))\n",
    "    Y = one_hot(y, num_classes)\n",
    "\n",
    "    for epoch in range(epochs):\n",
    "        logits = np.dot(X, W)\n",
    "        probs = softmax(logits)\n",
    "        loss = -np.mean(np.sum(Y * np.log(probs + 1e-9), axis=1))\n",
    "        grad = np.dot(X.T, (probs - Y)) / m\n",
    "        W -= lr * grad\n",
    "\n",
    "        if epoch % 100 == 0:\n",
    "            print(f\"Epoch {epoch} | Loss: {loss:.4f}\")\n",
    "\n",
    "    return W"
   ]
  },
  {
   "cell_type": "code",
   "execution_count": 16,
   "id": "13867281-da24-4710-ad68-b751e01825ae",
   "metadata": {},
   "outputs": [],
   "source": [
    "def predict(X, W):\n",
    "    m = X.shape[0]\n",
    "    X = np.hstack([np.ones((m, 1)), X])\n",
    "    logits = np.dot(X, W)\n",
    "    return np.argmax(softmax(logits), axis=1)"
   ]
  },
  {
   "cell_type": "code",
   "execution_count": 17,
   "id": "90c55220-dfb8-4783-86ca-584d6d013130",
   "metadata": {},
   "outputs": [
    {
     "name": "stdout",
     "output_type": "stream",
     "text": [
      "Epoch 0 | Loss: 1.0986\n",
      "Epoch 100 | Loss: 0.3338\n",
      "Epoch 200 | Loss: 0.2636\n",
      "Epoch 300 | Loss: 0.2225\n",
      "Epoch 400 | Loss: 0.1947\n",
      "Epoch 500 | Loss: 0.1746\n",
      "Epoch 600 | Loss: 0.1594\n",
      "Epoch 700 | Loss: 0.1475\n",
      "Epoch 800 | Loss: 0.1379\n",
      "Epoch 900 | Loss: 0.1300\n"
     ]
    }
   ],
   "source": [
    "num_classes = len(np.unique(y))\n",
    "W = train_logistic_regression(X_scaled, y, num_classes)"
   ]
  },
  {
   "cell_type": "code",
   "execution_count": 18,
   "id": "69d8ffa4-baf4-4e91-8331-d68ddab42e3c",
   "metadata": {},
   "outputs": [],
   "source": [
    "y_pred = predict(X_scaled, W)"
   ]
  },
  {
   "cell_type": "code",
   "execution_count": 19,
   "id": "4de078a2-0108-42a2-9417-267544f829df",
   "metadata": {},
   "outputs": [
    {
     "name": "stdout",
     "output_type": "stream",
     "text": [
      "\n",
      "Accuracy: 0.9733333333333334\n"
     ]
    }
   ],
   "source": [
    "print(\"\\nAccuracy:\", accuracy_score(y, y_pred))"
   ]
  },
  {
   "cell_type": "code",
   "execution_count": null,
   "id": "d9dffe6f-80b4-4eb9-bfcc-6e9d1bb51fdc",
   "metadata": {},
   "outputs": [],
   "source": []
  }
 ],
 "metadata": {
  "kernelspec": {
   "display_name": "Python 3 (ipykernel)",
   "language": "python",
   "name": "python3"
  },
  "language_info": {
   "codemirror_mode": {
    "name": "ipython",
    "version": 3
   },
   "file_extension": ".py",
   "mimetype": "text/x-python",
   "name": "python",
   "nbconvert_exporter": "python",
   "pygments_lexer": "ipython3",
   "version": "3.12.3"
  }
 },
 "nbformat": 4,
 "nbformat_minor": 5
}
